{
 "cells": [
  {
   "cell_type": "code",
   "execution_count": 218,
   "metadata": {
    "collapsed": true
   },
   "outputs": [],
   "source": [
    "%matplotlib inline\n",
    "\n",
    "import matplotlib\n",
    "import numpy as np\n",
    "import matplotlib.pyplot as plt\n",
    "\n",
    "import seaborn as sns\n",
    "sns.set(color_codes=True)"
   ]
  },
  {
   "cell_type": "code",
   "execution_count": 219,
   "metadata": {
    "collapsed": true
   },
   "outputs": [],
   "source": [
    "import itertools"
   ]
  },
  {
   "cell_type": "code",
   "execution_count": 220,
   "metadata": {
    "collapsed": false
   },
   "outputs": [],
   "source": [
    "#define some random factors\n",
    "#X1    X2\n",
    "#|      |\n",
    "#Y1 -- Y2\n",
    "\n",
    "def f1(x1, y1):\n",
    "    return 5+2*x1-y1\n",
    "\n",
    "\n",
    "def f2(x2, y2):\n",
    "    return x2*y2+3+4*x2\n",
    "\n",
    "def f3(y1, y2):\n",
    "    return 7*y1 + 4*y2*y1 + 2*y2 \n",
    "\n"
   ]
  },
  {
   "cell_type": "markdown",
   "metadata": {},
   "source": [
    "#MRF"
   ]
  },
  {
   "cell_type": "code",
   "execution_count": 221,
   "metadata": {
    "collapsed": true
   },
   "outputs": [],
   "source": [
    "def Ptilde(x1, x2, y1, y2):\n",
    "    return f1(x1, y1)*f2(x2,y2)*f3(y1,y2)"
   ]
  },
  {
   "cell_type": "code",
   "execution_count": 222,
   "metadata": {
    "collapsed": false
   },
   "outputs": [],
   "source": [
    "def getZ():\n",
    "    Z=0\n",
    "    for x1, x2, y1, y2 in itertools.product((0, 1), repeat=4):\n",
    "        Z += Ptilde(x1=x1, x2=x2, y1=y1, y2=y2)\n",
    "    \n",
    "    return Z"
   ]
  },
  {
   "cell_type": "code",
   "execution_count": 223,
   "metadata": {
    "collapsed": true
   },
   "outputs": [],
   "source": [
    "def P(x1, x2, y1, y2):\n",
    "    return 1.0*Ptilde(x1=x1, x2=x2, y1=y1, y2=y2)/getZ()"
   ]
  },
  {
   "cell_type": "code",
   "execution_count": 226,
   "metadata": {
    "collapsed": true
   },
   "outputs": [],
   "source": [
    "def printTable():\n",
    "    mysum=0\n",
    "    tildesum=0\n",
    "    for x1, x2 in itertools.product((0, 1), repeat=2):\n",
    "        print \"---------------------\"\n",
    "        for y1, y2 in itertools.product((0, 1), repeat=2):\n",
    "            s= \"P(\"\n",
    "            s+= str(x1) + \", \" + str(x2) + \", \" + str(y1) + \", \" + str(y2)\n",
    "            s+= \"): \"\n",
    "            s+=str(P(x1=x1, x2=x2, y1=y1, y2=y2))\n",
    "            mysum += P(x1=x1, x2=x2, y1=y1, y2=y2)\n",
    "            tildesum += Ptilde(x1=x1, x2=x2, y1=y1, y2=y2)\n",
    "            print s\n",
    "    print mysum\n",
    "    print tildesum"
   ]
  },
  {
   "cell_type": "code",
   "execution_count": 227,
   "metadata": {
    "collapsed": false
   },
   "outputs": [
    {
     "name": "stdout",
     "output_type": "stream",
     "text": [
      "---------------------\n",
      "P(0, 0, 0, 0): 0.0\n",
      "P(0, 0, 0, 1): 0.0125313283208\n",
      "P(0, 0, 1, 0): 0.0350877192982\n",
      "P(0, 0, 1, 1): 0.0651629072682\n",
      "---------------------\n",
      "P(0, 1, 0, 0): 0.0\n",
      "P(0, 1, 0, 1): 0.0334168755221\n",
      "P(0, 1, 1, 0): 0.0818713450292\n",
      "P(0, 1, 1, 1): 0.173767752715\n",
      "---------------------\n",
      "P(1, 0, 0, 0): 0.0\n",
      "P(1, 0, 0, 1): 0.0175438596491\n",
      "P(1, 0, 1, 0): 0.0526315789474\n",
      "P(1, 0, 1, 1): 0.0977443609023\n",
      "---------------------\n",
      "P(1, 1, 0, 0): 0.0\n",
      "P(1, 1, 0, 1): 0.046783625731\n",
      "P(1, 1, 1, 0): 0.122807017544\n",
      "P(1, 1, 1, 1): 0.260651629073\n",
      "1.0\n",
      "2394\n",
      "2394\n"
     ]
    }
   ],
   "source": [
    "printTable()\n",
    "print getZ()"
   ]
  },
  {
   "cell_type": "markdown",
   "metadata": {},
   "source": [
    "#CRF"
   ]
  },
  {
   "cell_type": "code",
   "execution_count": 214,
   "metadata": {
    "collapsed": true
   },
   "outputs": [],
   "source": [
    "def getCZ(x1, x2):\n",
    "    Z=0\n",
    "    for y1, y2 in itertools.product((0, 1), repeat=2):\n",
    "        Z += Ptilde(x1=x1, x2=x2, y1=y1, y2=y2)\n",
    "    return Z"
   ]
  },
  {
   "cell_type": "code",
   "execution_count": 215,
   "metadata": {
    "collapsed": true
   },
   "outputs": [],
   "source": [
    "def CP(x1, x2, y1, y2):\n",
    "    return 1.0*Ptilde(x1=x1, x2=x2, y1=y1, y2=y2)/getCZ(x1=x1, x2=x2)"
   ]
  },
  {
   "cell_type": "code",
   "execution_count": 216,
   "metadata": {
    "collapsed": false
   },
   "outputs": [],
   "source": [
    "def printCTable(x1, x2):\n",
    "    for y1, y2 in itertools.product((0, 1), repeat=2):\n",
    "        s= \"P(\"\n",
    "        s+= str(x1) + \", \" + str(x2) + \", \" + str(y1) + \", \" + str(y2)\n",
    "        s+= \"): \"\n",
    "        s+=str(CP(x1=x1, x2=x2, y1=y1, y2=y2))\n",
    "        print s"
   ]
  },
  {
   "cell_type": "code",
   "execution_count": 217,
   "metadata": {
    "collapsed": false
   },
   "outputs": [
    {
     "name": "stdout",
     "output_type": "stream",
     "text": [
      "P(0, 0, 0, 0): 0.0\n",
      "P(0, 0, 0, 1): 0.111111111111\n",
      "P(0, 0, 1, 0): 0.311111111111\n",
      "P(0, 0, 1, 1): 0.577777777778\n",
      "-------------\n",
      "P(0, 1, 0, 0): 0.0\n",
      "P(0, 1, 0, 1): 0.115606936416\n",
      "P(0, 1, 1, 0): 0.28323699422\n",
      "P(0, 1, 1, 1): 0.601156069364\n",
      "-------------\n",
      "P(1, 0, 0, 0): 0.0\n",
      "P(1, 0, 0, 1): 0.10447761194\n",
      "P(1, 0, 1, 0): 0.313432835821\n",
      "P(1, 0, 1, 1): 0.582089552239\n",
      "-------------\n",
      "P(1, 1, 0, 0): 0.0\n",
      "P(1, 1, 0, 1): 0.108737864078\n",
      "P(1, 1, 1, 0): 0.285436893204\n",
      "P(1, 1, 1, 1): 0.605825242718\n",
      "-------------\n"
     ]
    }
   ],
   "source": [
    "for x1, x2 in itertools.product((0, 1), repeat=2):\n",
    "    printCTable(x1,x2)\n",
    "    print \"-------------\""
   ]
  },
  {
   "cell_type": "code",
   "execution_count": null,
   "metadata": {
    "collapsed": true
   },
   "outputs": [],
   "source": []
  }
 ],
 "metadata": {
  "kernelspec": {
   "display_name": "Python 2",
   "language": "python",
   "name": "python2"
  },
  "language_info": {
   "codemirror_mode": {
    "name": "ipython",
    "version": 2
   },
   "file_extension": ".py",
   "mimetype": "text/x-python",
   "name": "python",
   "nbconvert_exporter": "python",
   "pygments_lexer": "ipython2",
   "version": "2.7.10"
  }
 },
 "nbformat": 4,
 "nbformat_minor": 0
}
