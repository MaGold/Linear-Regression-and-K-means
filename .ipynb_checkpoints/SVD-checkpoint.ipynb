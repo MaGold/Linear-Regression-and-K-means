{
 "cells": [
  {
   "cell_type": "markdown",
   "metadata": {},
   "source": [
    "#Orthogonality"
   ]
  },
  {
   "cell_type": "markdown",
   "metadata": {},
   "source": [
    "If a matrix $C$ has orthogonal cloumns, then $C^TC = I$, because \n",
    "$$C^TC = \\begin{pmatrix} --- c_1 --- \\\\ --- c_2 --- \\\\ --- \\vdots ---\\\\ --- c_k --- \\end{pmatrix} \\begin{pmatrix} \\vdots & \\vdots & \\vdots & \\vdots \\\\ c_1 & c_2 & \\ldots & c_k \\\\ \\vdots & \\vdots & \\vdots & \\vdots\\end{pmatrix} = \\mathbf{I}$$ "
   ]
  },
  {
   "cell_type": "markdown",
   "metadata": {},
   "source": [
    "If a matrix $R$ has orthogonal rows, then $RR^T = I$, because \n",
    "$$RR^T = \\begin{pmatrix} --- r_1 --- \\\\ --- r_2 --- \\\\ --- \\vdots ---\\\\ --- r_k --- \\end{pmatrix}  \\begin{pmatrix} \\vdots & \\vdots & \\vdots & \\vdots \\\\ r_1 & r_2 & \\ldots & r_k \\\\ \\vdots & \\vdots & \\vdots & \\vdots\\end{pmatrix} = \\mathbf{I}$$"
   ]
  },
  {
   "cell_type": "markdown",
   "metadata": {},
   "source": [
    "For square matrices $A,B$, we know that if $AB=\\mathbf{I}$ then $BA=\\mathbf{I}$.\n",
    "\n",
    "Therefore, if $M$ is square with orthonormal cloumns ($M^TM=\\mathbf{I}$), then $MM^T = \\mathbf{I}$. So $M$ also has orthonormal rows. Same goes for rows implying columns.\n",
    "\n",
    "These are **orthogonal matrcies**. An *orthogonal matrix* is a square matrix with real entries whose columns and rows are orthogonal unit vectors (i.e., orthonormal vectors). In thise case $M^T = M^{-1}$."
   ]
  },
  {
   "cell_type": "markdown",
   "metadata": {},
   "source": [
    "#SVD - circles to ellipses"
   ]
  },
  {
   "cell_type": "code",
   "execution_count": 2,
   "metadata": {
    "collapsed": false
   },
   "outputs": [],
   "source": [
    "%matplotlib inline\n",
    "\n",
    "import matplotlib\n",
    "import numpy as np\n",
    "import matplotlib.pyplot as plt\n",
    "\n",
    "import seaborn as sns\n",
    "sns.set(color_codes=True)"
   ]
  },
  {
   "cell_type": "code",
   "execution_count": 3,
   "metadata": {
    "collapsed": false
   },
   "outputs": [
    {
     "data": {
      "text/plain": [
       "(-1, 1)"
      ]
     },
     "execution_count": 3,
     "metadata": {},
     "output_type": "execute_result"
    },
    {
     "data": {
      "image/png": "[encoded data removed]",
      "text/plain": [
       "<matplotlib.figure.Figure at 0x7f958c69a390>"
      ]
     },
     "metadata": {},
     "output_type": "display_data"
    }
   ],
   "source": [
    "#generate points on a unit circle\n",
    "\n",
    "xs = np.linspace(-1, 1, 1000)\n",
    "ys = np.sqrt(1-xs**2)\n",
    "\n",
    "xs = np.append(xs, xs)\n",
    "ys = np.append(ys, -ys)\n",
    "\n",
    "fig, ax = plt.subplots(1,1,figsize=(5,5))\n",
    "\n",
    "ax.plot(xs,ys,'.')\n",
    "\n",
    "plt.xlim([-1,1])\n",
    "plt.ylim([-1,1])"
   ]
  },
  {
   "cell_type": "code",
   "execution_count": 4,
   "metadata": {
    "collapsed": false
   },
   "outputs": [
    {
     "name": "stdout",
     "output_type": "stream",
     "text": [
      "[[ 1.         -0.4472136 ]\n",
      " [ 0.          0.89442719]]\n",
      "[ 6. -4.]\n"
     ]
    },
    {
     "data": {
      "text/plain": [
       "(-10, 10)"
      ]
     },
     "execution_count": 4,
     "metadata": {},
     "output_type": "execute_result"
    },
    {
     "data": {
      "image/png": "[encoded data removed]",
      "text/plain": [
       "<matplotlib.figure.Figure at 0x7f955c403fd0>"
      ]
     },
     "metadata": {},
     "output_type": "display_data"
    }
   ],
   "source": [
    "#map the circle via the matrix A\n",
    "A = np.array([[6,5], [0,-4]])\n",
    "eigenval, eigenvec = np.linalg.eig(A)\n",
    "print eigenvec\n",
    "print eigenval\n",
    "mapped=[]\n",
    "for x,y in zip(xs,ys):\n",
    "    mapped.append(np.dot(A,np.array([x, y])))\n",
    "#print zip(xs, ys)\n",
    "#print mapped\n",
    "fig, ax = plt.subplots(1,1,figsize=(10,10))\n",
    "#fig = plt.figure()\n",
    "#ax = fig.add_subplot(121, figsize=(10, 10))\n",
    "newx = [item[0] for item in mapped]\n",
    "newy = [item[1] for item in mapped]\n",
    "ax.plot(newx, newy, '.')\n",
    "\n",
    "\n",
    "#plot eigenvectors\n",
    "eign_x1 = eigenval[0]*eigenvec[0,0]\n",
    "eign_y1 = eigenval[0]*eigenvec[1,0]\n",
    "eign_x2 = eigenval[1]*eigenvec[0,1]\n",
    "eign_y2 =  eigenval[1]*eigenvec[1,1]\n",
    "\n",
    "ax.plot(eign_x1, eign_y1, 'o')\n",
    "ax.plot(eign_x2, eign_y2, 'o')\n",
    "\n",
    "\n",
    "line = plt.Line2D([0,eign_x1], [0,eign_y1], color='r')\n",
    "ax.add_line(line)\n",
    "line = plt.Line2D([0,eign_x2], [0,eign_y2], color='r')\n",
    "ax.add_line(line)\n",
    "\n",
    "\n",
    "#SVD stuff\n",
    "U, s, V = np.linalg.svd(A)\n",
    "line = plt.Line2D([0,s[0]*U[0,0]], [0,s[0]*U[1,0]], color='orange')\n",
    "ax.add_line(line)\n",
    "line = plt.Line2D([0,s[1]*U[0,1]], [0,s[1]*U[1,1]], color='orange')\n",
    "ax.add_line(line)\n",
    "\n",
    "\n",
    "plt.xlim([-10,10])\n",
    "plt.ylim([-10,10])"
   ]
  },
  {
   "cell_type": "markdown",
   "metadata": {},
   "source": [
    "#SVD\n",
    "$Av_j = \\sigma_j u_j \\text{ for } j=1,\\ldots, n$\n",
    "\n",
    "where\n",
    "\n",
    "$v_j$ are the **right singular vectors** of A;\n",
    "\n",
    "$u_j$ are the **left singular vectors** of A;\n",
    "\n",
    "$\\sigma_j$ are the **singular values** of A;\n",
    "\n",
    "$u_j$ is a vector on the principle axis of the ellipse given by $A$; $\\sigma_j$ is how much it gets stretched; $v_j$ is the vector on the unit circle that gets sent to it.\n",
    "\n",
    "In matrix form: $$A = U \\Sigma V$$\n",
    "\n",
    "$$A^{m \\times n} = U^{m \\times n}\\;\\; \\Sigma^{n \\times n}\\;\\; V^{n \\times n}$$\n",
    "\n",
    "$\\Sigma$ is diagonal;\n",
    "\n",
    "$U$ has orthonormal columns ($\\in \\mathbf{R}^m$);\n",
    "\n",
    "$V$ has orthonormal columns (and therefore rows, since it's square)."
   ]
  },
  {
   "cell_type": "markdown",
   "metadata": {},
   "source": [
    "#FINDING THE SVD"
   ]
  },
  {
   "cell_type": "markdown",
   "metadata": {},
   "source": [
    "##use the eigendecomposition:"
   ]
  },
  {
   "cell_type": "markdown",
   "metadata": {},
   "source": [
    "$\\mathbf{A}=\\mathbf{Q}\\mathbf{\\Lambda}\\mathbf{Q}^{-1}$  \n",
    "where $\\mathbf{Q}$ is the square matrix whose $i$th column is the eigenvector $q_i$ of $\\mathbf{A}$ and $\\mathbf{Λ}$ is the diagonal matrix whose diagonal elements are the corresponding eigenvalues"
   ]
  },
  {
   "cell_type": "code",
   "execution_count": 5,
   "metadata": {
    "collapsed": false
   },
   "outputs": [
    {
     "data": {
      "text/plain": [
       "array([[ 6,  5],\n",
       "       [ 0, -4]])"
      ]
     },
     "execution_count": 5,
     "metadata": {},
     "output_type": "execute_result"
    }
   ],
   "source": [
    "A"
   ]
  },
  {
   "cell_type": "code",
   "execution_count": 6,
   "metadata": {
    "collapsed": false
   },
   "outputs": [
    {
     "name": "stdout",
     "output_type": "stream",
     "text": [
      "[ 6. -4.]\n",
      "[[ 1.         -0.4472136 ]\n",
      " [ 0.          0.89442719]]\n"
     ]
    }
   ],
   "source": [
    "eigenval, eigenvec = np.linalg.eig(A)\n",
    "print eigenval\n",
    "print eigenvec"
   ]
  },
  {
   "cell_type": "code",
   "execution_count": 7,
   "metadata": {
    "collapsed": false
   },
   "outputs": [
    {
     "data": {
      "text/plain": [
       "array([[ 6.,  5.],\n",
       "       [ 0., -4.]])"
      ]
     },
     "execution_count": 7,
     "metadata": {},
     "output_type": "execute_result"
    }
   ],
   "source": [
    "np.dot(np.dot(eigenvec, np.diag(eigenval)), np.linalg.inv(eigenvec))"
   ]
  },
  {
   "cell_type": "markdown",
   "metadata": {},
   "source": [
    "#How does this help?"
   ]
  },
  {
   "cell_type": "markdown",
   "metadata": {},
   "source": [
    "$A = U \\Sigma V$, so we use two facts, recalling that $V$ is orthnoromal ($V^{-1} = V^T$):\n",
    "\n",
    "$$A^TA = \\left(V^T \\Sigma^T U^T\\right)  U \\Sigma V = V^T \\Sigma^2 V = V \\Sigma^2 V^{-1};$$\n",
    "\n",
    "\n",
    "So $\\Sigma$ is the square root of the diagonal eigenvalue matrix of $A^TA$, which we know how to find, and $V$ is the eigenvector matrix of $A^TA$, which we know how to find.\n",
    "\n",
    "To find $U$, we use\n",
    "\n",
    "$$AV^T = U \\Sigma V V^T = U \\Sigma,$$\n",
    "\n",
    "so that $U = AV^T\\Sigma^{-1}$."
   ]
  },
  {
   "cell_type": "code",
   "execution_count": 8,
   "metadata": {
    "collapsed": false
   },
   "outputs": [
    {
     "name": "stdout",
     "output_type": "stream",
     "text": [
      "[  8.39601355  68.60398645]\n",
      "[[-0.73588229 -0.67710949]\n",
      " [ 0.67710949 -0.73588229]]\n"
     ]
    }
   ],
   "source": [
    "eigenval, eigenvec = np.linalg.eig(np.dot(np.transpose(A),A))\n",
    "print eigenval\n",
    "print eigenvec"
   ]
  },
  {
   "cell_type": "code",
   "execution_count": 9,
   "metadata": {
    "collapsed": true
   },
   "outputs": [],
   "source": [
    "V = eigenvec\n",
    "S = np.sqrt(np.diag(eigenval))\n",
    "U = np.dot(np.dot(A, np.transpose(V)), np.linalg.inv(S))"
   ]
  },
  {
   "cell_type": "code",
   "execution_count": 10,
   "metadata": {
    "collapsed": false
   },
   "outputs": [
    {
     "data": {
      "text/plain": [
       "array([[ 6.,  5.],\n",
       "       [ 0., -4.]])"
      ]
     },
     "execution_count": 10,
     "metadata": {},
     "output_type": "execute_result"
    }
   ],
   "source": [
    "np.dot(np.dot(U, S), V)"
   ]
  },
  {
   "cell_type": "code",
   "execution_count": 11,
   "metadata": {
    "collapsed": false
   },
   "outputs": [
    {
     "data": {
      "text/plain": [
       "array([[ 6,  5],\n",
       "       [ 0, -4]])"
      ]
     },
     "execution_count": 11,
     "metadata": {},
     "output_type": "execute_result"
    }
   ],
   "source": [
    "A"
   ]
  },
  {
   "cell_type": "markdown",
   "metadata": {},
   "source": [
    "#Norms, rotations, and scalings"
   ]
  },
  {
   "cell_type": "markdown",
   "metadata": {},
   "source": [
    "$||\\mathbf{v}||^2 = \\sum v_i^2 = \\mathbf{v}^T \\mathbf{v}$"
   ]
  },
  {
   "cell_type": "markdown",
   "metadata": {},
   "source": [
    "What happens when we apply a matrix $\\mathbf{M}$ having orthonormal columns to $\\mathbf{v}$?\n",
    "\n",
    "$||\\mathbf{M}\\mathbf{v}||^2 =  \\mathbf{v}^T\\mathbf{M}^T \\mathbf{M} \\mathbf{v}  = \\mathbf{v}^T \\mathbf{v} = ||\\mathbf{v}||^2$,\n",
    "\n",
    "so $\\mathbf{M}$ might rotate $\\mathbf{v}$, but does not scale it."
   ]
  },
  {
   "cell_type": "markdown",
   "metadata": {},
   "source": [
    "In the SVD setting,\n",
    "\n",
    "$\\mathbf{A}\\mathbf{v} = \\mathbf{U} \\mathbf{\\Sigma} \\mathbf{V}\\mathbf{v}$,\n",
    "\n",
    "so $\\mathbf{V}$ rotates, $\\mathbf{\\Sigma}$ scales, and $\\mathbf{U}$ rotates."
   ]
  },
  {
   "cell_type": "code",
   "execution_count": null,
   "metadata": {
    "collapsed": true
   },
   "outputs": [],
   "source": []
  }
 ],
 "metadata": {
  "kernelspec": {
   "display_name": "Python 2",
   "language": "python",
   "name": "python2"
  },
  "language_info": {
   "codemirror_mode": {
    "name": "ipython",
    "version": 2
   },
   "file_extension": ".py",
   "mimetype": "text/x-python",
   "name": "python",
   "nbconvert_exporter": "python",
   "pygments_lexer": "ipython2",
   "version": "2.7.10"
  }
 },
 "nbformat": 4,
 "nbformat_minor": 0
}
