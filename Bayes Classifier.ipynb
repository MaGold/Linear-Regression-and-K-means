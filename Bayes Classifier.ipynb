{
 "cells": [
  {
   "cell_type": "code",
   "execution_count": 337,
   "metadata": {
    "collapsed": true
   },
   "outputs": [],
   "source": [
    "%matplotlib inline\n",
    "\n",
    "import matplotlib\n",
    "import numpy as np\n",
    "import matplotlib.pyplot as plt\n",
    "\n",
    "import seaborn as sns\n",
    "sns.set(color_codes=True)"
   ]
  },
  {
   "cell_type": "markdown",
   "metadata": {},
   "source": [
    "#Generate training data"
   ]
  },
  {
   "cell_type": "markdown",
   "metadata": {},
   "source": [
    "## first generate 10 cluster means for each class:"
   ]
  },
  {
   "cell_type": "code",
   "execution_count": 338,
   "metadata": {
    "collapsed": false
   },
   "outputs": [
    {
     "data": {
      "text/plain": [
       "(-4, 4)"
      ]
     },
     "execution_count": 338,
     "metadata": {},
     "output_type": "execute_result"
    },
    {
     "data": {
      "image/png": "[encoded data removed]",
      "text/plain": [
       "<matplotlib.figure.Figure at 0x2b8fa9b0>"
      ]
     },
     "metadata": {},
     "output_type": "display_data"
    }
   ],
   "source": [
    "cov = np.identity(2)\n",
    "\n",
    "#generate blue class:\n",
    "#    generate m_1, ..., m_10 from N((1,0), I)\n",
    "mean = [3,0]\n",
    "blue_m = np.random.multivariate_normal(mean,cov,10)\n",
    "\n",
    "#generate green class:\n",
    "#    generate m_1, ..., m_10 from N((0,1), I)\n",
    "mean = [0,1]\n",
    "green_m = np.random.multivariate_normal(mean,cov/5.0,10)\n",
    "\n",
    "plt.plot(green_m[:,0],green_m[:,1], 'o', color='g')\n",
    "plt.plot(blue_m[:,0],blue_m[:,1], 'o', color='b')\n",
    "\n",
    "plt.xlim([-4,4])\n",
    "plt.ylim([-4,4])"
   ]
  },
  {
   "cell_type": "markdown",
   "metadata": {},
   "source": [
    "## now generate the training data based on the centers"
   ]
  },
  {
   "cell_type": "code",
   "execution_count": 339,
   "metadata": {
    "collapsed": false,
    "scrolled": true
   },
   "outputs": [
    {
     "data": {
      "text/plain": [
       "(-4, 4)"
      ]
     },
     "execution_count": 339,
     "metadata": {},
     "output_type": "execute_result"
    },
    {
     "data": {
      "image/png": "[encoded data removed]",
      "text/plain": [
       "<matplotlib.figure.Figure at 0x24ca2c88>"
      ]
     },
     "metadata": {},
     "output_type": "display_data"
    }
   ],
   "source": [
    "N = 1000000\n",
    "#greens:\n",
    "greens = []\n",
    "for i in range(N):\n",
    "    cur_mean = green_m[np.random.randint(0,10)]\n",
    "    \n",
    "    new_point = np.random.multivariate_normal(cur_mean,cov/5,1)\n",
    "    #print new_point\n",
    "    greens.append(new_point[0])\n",
    "    \n",
    "greens = np.array(greens)\n",
    "plt.plot(greens[:,0],greens[:,1], 'o', color='g')\n",
    "\n",
    "blues = []\n",
    "for i in range(N):\n",
    "    cur_mean = blue_m[np.random.randint(0,10)]\n",
    "    \n",
    "    new_point = np.random.multivariate_normal(cur_mean,cov/5,1)\n",
    "    #print new_point\n",
    "    blues.append(new_point[0])\n",
    "    \n",
    "blues = np.array(blues)\n",
    "plt.plot(blues[:,0],blues[:,1], 'o', color='b')\n",
    "\n",
    "plt.xlim([-4,4])\n",
    "plt.ylim([-4,4])"
   ]
  },
  {
   "cell_type": "markdown",
   "metadata": {},
   "source": [
    "#Bayes Classifier"
   ]
  },
  {
   "cell_type": "code",
   "execution_count": 340,
   "metadata": {
    "collapsed": false
   },
   "outputs": [],
   "source": [
    "x_train = np.append(blues, greens)\n",
    "x_train = x_train.reshape((2*N,2))\n",
    "\n",
    "y_train = np.append(np.zeros(N), np.ones(N)).reshape((2*N,1))"
   ]
  },
  {
   "cell_type": "markdown",
   "metadata": {},
   "source": [
    "We want to maximize $P(xtrain, ytrain) = \\prod P(x_i, y_i)$.\n",
    "\n",
    "This is done by the decomposition:\n",
    "\n",
    "$M[x_1, x_2, y] = $ number of occurences of $(x_1, x_2, y)$\n",
    "\n",
    "$M[y] = \\sum_{x_1,x_2} M[x_1, x_2, y] = $ number of occures of $y$"
   ]
  },
  {
   "cell_type": "markdown",
   "metadata": {},
   "source": [
    "##Discretization"
   ]
  },
  {
   "cell_type": "code",
   "execution_count": 341,
   "metadata": {
    "collapsed": false
   },
   "outputs": [],
   "source": [
    "#use 0.5 x 0.5 squares for now\n",
    "#use a dictionary, index by the bottom left corner of each square\n",
    "bins = {}\n",
    "for x in np.linspace(-60,60, 121):\n",
    "    for y in np.linspace(-60,60, 121):\n",
    "        bins[(x,y)] = [0,0]\n",
    "        \n",
    "#print bins\n",
    "for i in range(len(x_train)):\n",
    "    x = x_train[i]\n",
    "    y = y_train[i][0]\n",
    "    #print y\n",
    "    corner = (int(np.floor(10.0 * x[0])),  int(np.floor(10.0 * x[1])))\n",
    "    #print corner\n",
    "    bins[corner][int(y)] += 1\n"
   ]
  },
  {
   "cell_type": "markdown",
   "metadata": {},
   "source": [
    "##calculate parameters"
   ]
  },
  {
   "cell_type": "code",
   "execution_count": 342,
   "metadata": {
    "collapsed": true
   },
   "outputs": [],
   "source": [
    "numy1 = np.count_nonzero(y_train)\n",
    "numy0 = len(y_train) - numy1"
   ]
  },
  {
   "cell_type": "code",
   "execution_count": 343,
   "metadata": {
    "collapsed": false
   },
   "outputs": [
    {
     "name": "stdout",
     "output_type": "stream",
     "text": [
      "[0.5, 0.5]\n"
     ]
    }
   ],
   "source": [
    "p_y = [0,0]\n",
    "p_y[0] = 1.0*numy0 / len(y_train)\n",
    "p_y[1] = 1.0*numy1 / len(y_train)\n",
    "\n",
    "print p_y\n"
   ]
  },
  {
   "cell_type": "code",
   "execution_count": 344,
   "metadata": {
    "collapsed": false
   },
   "outputs": [],
   "source": [
    "x1y0_bins = {}\n",
    "x1y1_bins = {}\n",
    "x2y0_bins = {}\n",
    "x2y1_bins = {}\n",
    "for k in np.array(bins.keys())[:,0]:\n",
    "    x1y0_bins[k] = 0\n",
    "    x1y1_bins[k] = 0\n",
    "    x2y0_bins[k] = 0\n",
    "    x2y1_bins[k] = 0\n",
    "    "
   ]
  },
  {
   "cell_type": "code",
   "execution_count": 345,
   "metadata": {
    "collapsed": false
   },
   "outputs": [],
   "source": [
    "for b in bins:\n",
    "    x1y0_bins[b[0]] += bins[b][0]\n",
    "    x1y1_bins[b[0]] += bins[b][1]\n",
    "    x2y0_bins[b[1]] += bins[b][0]\n",
    "    x2y1_bins[b[1]] += bins[b][1]\n"
   ]
  },
  {
   "cell_type": "code",
   "execution_count": 346,
   "metadata": {
    "collapsed": false
   },
   "outputs": [
    {
     "name": "stdout",
     "output_type": "stream",
     "text": [
      "1000000 1000000 1000000 1000000\n"
     ]
    }
   ],
   "source": [
    "s=t=u=v=0\n",
    "for k in x1y0_bins:\n",
    "    s += x1y0_bins[k]\n",
    "for k in x1y1_bins:\n",
    "    t += x1y1_bins[k]\n",
    "for k in x2y0_bins:\n",
    "    u += x2y0_bins[k]\n",
    "for k in x2y1_bins:\n",
    "    v += x2y1_bins[k]\n",
    "print s,t,u,v"
   ]
  },
  {
   "cell_type": "code",
   "execution_count": 347,
   "metadata": {
    "collapsed": false
   },
   "outputs": [
    {
     "name": "stdout",
     "output_type": "stream",
     "text": [
      "1.0 1.0 1.0 1.0\n",
      "4.0\n"
     ]
    }
   ],
   "source": [
    "s=0\n",
    "t=0\n",
    "u=0\n",
    "v=0\n",
    "for k in x1y0_bins:\n",
    "    x1y0_bins[k] = 1.0*x1y0_bins[k]/numy0\n",
    "    s += x1y0_bins[k]\n",
    "    \n",
    "for k in x1y1_bins:\n",
    "    x1y1_bins[k] = 1.0*x1y1_bins[k]/numy1\n",
    "    t += x1y1_bins[k]\n",
    "    \n",
    "for k in x2y0_bins:\n",
    "    x2y0_bins[k] = 1.0*x2y0_bins[k]/numy0\n",
    "    u += x2y0_bins[k]\n",
    "    \n",
    "for k in x2y1_bins:\n",
    "    x2y1_bins[k] = 1.0*x2y1_bins[k]/numy1\n",
    "    v += x2y1_bins[k]\n",
    "print s,t,u,v\n",
    "print s+t+u+v"
   ]
  },
  {
   "cell_type": "markdown",
   "metadata": {},
   "source": [
    "##test data:"
   ]
  },
  {
   "cell_type": "code",
   "execution_count": 348,
   "metadata": {
    "collapsed": false
   },
   "outputs": [],
   "source": [
    "x_test = np.array([0,0])\n",
    "for x in np.linspace(-4, 4, 100):\n",
    "    for y in np.linspace(-4, 4, 100):\n",
    "        x_test = np.vstack((x_test, np.array([x,y])))\n",
    "        \n",
    "x_test = x_test[1:]"
   ]
  },
  {
   "cell_type": "code",
   "execution_count": 349,
   "metadata": {
    "collapsed": false,
    "scrolled": false
   },
   "outputs": [
    {
     "data": {
      "image/png": "[encoded data removed]",
      "text/plain": [
       "<matplotlib.figure.Figure at 0x33fbc828>"
      ]
     },
     "metadata": {},
     "output_type": "display_data"
    }
   ],
   "source": [
    "fig = plt.figure(figsize=(12, 8))\n",
    "ax = fig.add_subplot(111)\n",
    "\n",
    "\n",
    "#plot training data:\n",
    "#ax.plot(greens[:,0],greens[:,1], 'o', markersize=8, markeredgewidth=4, markerfacecolor='none', markeredgecolor='orange')\n",
    "#ax.plot(blues[:,0],blues[:,1], 'o', markersize=8, markeredgewidth=4, markerfacecolor='none', markeredgecolor='b')\n",
    "\n",
    "plt.xlim([-4,4])\n",
    "plt.ylim([-4,4])\n",
    "\n",
    "\n",
    "for x in x_test:\n",
    "    corner = (int(np.floor(10.0 * x[0])),  int(np.floor(10.0 * x[1])))\n",
    "    \n",
    "    py0 = p_y[0] * x1y0_bins[corner[0]] * x2y0_bins[corner[1]]\n",
    "    py1 = p_y[1] * x1y1_bins[corner[0]] * x2y1_bins[corner[1]]\n",
    "\n",
    "    if py0 > py1:\n",
    "        ax.plot(x[0], x[1], '.', color='b', markersize=5)\n",
    "    if py1 > py0:\n",
    "        ax.plot(x[0], x[1], '.', color='orange', markersize=5)\n",
    "    "
   ]
  },
  {
   "cell_type": "code",
   "execution_count": null,
   "metadata": {
    "collapsed": true
   },
   "outputs": [],
   "source": [
    "fig = plt.figure(figsize=(12, 8))\n",
    "ax = fig.add_subplot(111)\n",
    "\n",
    "\n",
    "#plot training data:\n",
    "#ax.plot(greens[:,0],greens[:,1], 'o', markersize=8, markeredgewidth=4, markerfacecolor='none', markeredgecolor='orange')\n",
    "#ax.plot(blues[:,0],blues[:,1], 'o', markersize=8, markeredgewidth=4, markerfacecolor='none', markeredgecolor='b')\n",
    "\n",
    "plt.xlim([-4,4])\n",
    "plt.ylim([-4,4])\n",
    "\n",
    "\n",
    "for x in x_train:\n",
    "    corner = (int(np.floor(10.0 * x[0])),  int(np.floor(10.0 * x[1])))\n",
    "    \n",
    "    py0 = p_y[0] * x1y0_bins[corner[0]] * x2y0_bins[corner[1]]\n",
    "    py1 = p_y[1] * x1y1_bins[corner[0]] * x2y1_bins[corner[1]]\n",
    "\n",
    "    if py0 > py1:\n",
    "        ax.plot(x[0], x[1], '.', color='b', markersize=5)\n",
    "    if py1 > py0:\n",
    "        ax.plot(x[0], x[1], '.', color='orange', markersize=5)"
   ]
  }
 ],
 "metadata": {
  "kernelspec": {
   "display_name": "Python 2",
   "language": "python",
   "name": "python2"
  },
  "language_info": {
   "codemirror_mode": {
    "name": "ipython",
    "version": 2
   },
   "file_extension": ".py",
   "mimetype": "text/x-python",
   "name": "python",
   "nbconvert_exporter": "python",
   "pygments_lexer": "ipython2",
   "version": "2.7.10"
  }
 },
 "nbformat": 4,
 "nbformat_minor": 0
}
